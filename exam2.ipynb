{
 "cells": [
  {
   "cell_type": "code",
   "execution_count": 1,
   "metadata": {},
   "outputs": [
    {
     "name": "stdout",
     "output_type": "stream",
     "text": [
      "Замовлення:\n",
      "Паста Carbonara: 120.99 грн\n",
      "Салат Цезар: 80.99 грн\n",
      "Загальна вартість: 201.98 грн\n",
      "\n",
      "Після видалення:\n",
      "Салат Цезар: 80.99 грн\n",
      "Загальна вартість: 80.99 грн\n"
     ]
    }
   ],
   "source": [
    "class Dish:\n",
    "    def __init__(self, name, price, ingredients):\n",
    "        self.name = name\n",
    "        self.price = price\n",
    "        self.ingredients = ingredients\n",
    "\n",
    "class Order:\n",
    "    def __init__(self):\n",
    "        self.dishes = []\n",
    "\n",
    "    def add_dish(self, dish):\n",
    "        self.dishes.append(dish)\n",
    "\n",
    "    def remove_dish(self, dish_name):\n",
    "        for dish in self.dishes:\n",
    "            if dish.name == dish_name:\n",
    "                self.dishes.remove(dish)\n",
    "                break\n",
    "\n",
    "    def calculate_total(self):\n",
    "        total = 0\n",
    "        for dish in self.dishes:\n",
    "            total += dish.price\n",
    "        return total\n",
    "\n",
    "# Приклад використання\n",
    "\n",
    "# Створення страв\n",
    "dish1 = Dish(\"Паста Carbonara\", 120.99, [\"спагетті\", \"бекон\", \"яйця\", \"пармезан\"])\n",
    "dish2 = Dish(\"Салат Цезар\", 80.99, [\"куряче філе\", \"салат\", \"грінки\", \"пармезан\"])\n",
    "\n",
    "# Створення замовлення\n",
    "order = Order()\n",
    "\n",
    "# Додавання страв до замовлення\n",
    "order.add_dish(dish1)\n",
    "order.add_dish(dish2)\n",
    "\n",
    "# Виведення замовлення та загальної вартості\n",
    "print(\"Замовлення:\")\n",
    "for dish in order.dishes:\n",
    "    print(f\"{dish.name}: {dish.price} грн\")\n",
    "print(f\"Загальна вартість: {order.calculate_total()} грн\")\n",
    "\n",
    "# Видалення однієї страви з замовлення\n",
    "order.remove_dish(\"Паста Carbonara\")\n",
    "\n",
    "# Оновлення виведення після видалення\n",
    "print(\"\\nПісля видалення:\")\n",
    "for dish in order.dishes:\n",
    "    print(f\"{dish.name}: {dish.price} грн\")\n",
    "print(f\"Загальна вартість: {order.calculate_total()} грн\")"
   ]
  }
 ],
 "metadata": {
  "kernelspec": {
   "display_name": "Python 3",
   "language": "python",
   "name": "python3"
  },
  "language_info": {
   "codemirror_mode": {
    "name": "ipython",
    "version": 3
   },
   "file_extension": ".py",
   "mimetype": "text/x-python",
   "name": "python",
   "nbconvert_exporter": "python",
   "pygments_lexer": "ipython3",
   "version": "3.12.1"
  }
 },
 "nbformat": 4,
 "nbformat_minor": 2
}
